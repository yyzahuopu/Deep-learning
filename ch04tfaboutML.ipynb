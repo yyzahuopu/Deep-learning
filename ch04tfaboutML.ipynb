{
 "cells": [
  {
   "cell_type": "code",
   "execution_count": 14,
   "metadata": {},
   "outputs": [],
   "source": [
    "#用逻辑回归预测泰坦尼克数据\n",
    "import tensorflow as tf\n",
    "\n",
    "W = tf.Variable(tf.zeros([5,1]),name=\"weights\")\n",
    "b = tf.Variable(0.,name=\"bias\")\n",
    "\n",
    "def combine_inputs(X):\n",
    "    return tf.matmul(X,W) + b\n",
    "\n",
    "def inference(X):\n",
    "    return tf,sigmoid(combine_inputs)\n",
    "\n",
    "def loss(X,Y):\n",
    "    return \n",
    "    tf.reduce_mean(tf.nn.sigmoid_cross-entropy_with_logits(combine_inputs(X),Y))\n",
    "\n",
    "def read_csv(batch_size,file_name,record_defaults):\n",
    "    filename_queue = tf.train.string_input_producer([os.path.dirname(__file__) + \\\n",
    "    \"/\" + file_name])\n",
    "    \n",
    "    reader = tf.TextLineReader(skip_header_lines=1)\n",
    "    key,value = reader.read(filename_queue)\n",
    "    \n",
    "    decoded = tf.decode_csv(value,record_defaults=record_defaults)\n",
    "    \n",
    "    return tf.train.shuffle_batch(decoded,\n",
    "                                  batch_size=batch_size,\n",
    "                                  capacity=bath_size * 50,\n",
    "                                  min_after_dequeue=batch_size)\n",
    "\n",
    "\n",
    "def inputs():\n",
    "    passenger_id,survived,pclass,name,sex,age,sibsp,\n",
    "    parch,ticket,fare,cabin,embarked = read_csv(100,\"train.csv\",\\\n",
    "    [[0.0],[0.0],[0],[\"\"],[\"\"],[0.0],[0.0],[0.0],[\"\"],[0.0],[\"\"],[\"\"]])\n",
    "    \n",
    "    is_first_class = tf.to_float(tf.equal(pclass,[1]))\n",
    "    is_second_class = tf.to_float(tf.equal(pclass,[2]))\n",
    "    is_third_class = tf.to_float(tf.equal(pclass,[3]))\n",
    "    \n",
    "    gender = tf.to_float(tf.equal(sex,[\"female\"]))\n",
    "    features = tf.transpose(tf.pack([is_first_class,\n",
    "    is_second_class,is_third_class,gender,age]))\n",
    "    survived = tf.reshape(survived,[100,1])\n",
    "    \n",
    "    return features,survived\n",
    "\n",
    "#训练模型\n",
    "def train(total_loss):\n",
    "    learning_rate = 0.01\n",
    "    return tf.train.GradientDescentOptimizer(learning_rate).minimize(total_loss)\n",
    "\n",
    "def evaluate(sess,X,Y):\n",
    "    predicted = tf.cast(inference(X) > 0.5,tf.float32)    \n",
    "    print(sess.run(tf.reduce_mean(tf.cast(tf.equal(predicted,Y),tf.float32))))"
   ]
  },
  {
   "cell_type": "code",
   "execution_count": null,
   "metadata": {
    "collapsed": true
   },
   "outputs": [],
   "source": []
  },
  {
   "cell_type": "code",
   "execution_count": null,
   "metadata": {
    "collapsed": true
   },
   "outputs": [],
   "source": []
  }
 ],
 "metadata": {
  "kernelspec": {
   "display_name": "Python 3",
   "language": "python",
   "name": "python3"
  },
  "language_info": {
   "codemirror_mode": {
    "name": "ipython",
    "version": 3
   },
   "file_extension": ".py",
   "mimetype": "text/x-python",
   "name": "python",
   "nbconvert_exporter": "python",
   "pygments_lexer": "ipython3",
   "version": "3.6.2"
  }
 },
 "nbformat": 4,
 "nbformat_minor": 2
}
