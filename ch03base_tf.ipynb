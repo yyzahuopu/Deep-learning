{
 "cells": [
  {
   "cell_type": "code",
   "execution_count": 1,
   "metadata": {},
   "outputs": [],
   "source": [
    "import tensorflow as tf"
   ]
  },
  {
   "cell_type": "code",
   "execution_count": 2,
   "metadata": {},
   "outputs": [
    {
     "data": {
      "text/plain": [
       "23"
      ]
     },
     "execution_count": 2,
     "metadata": {},
     "output_type": "execute_result"
    }
   ],
   "source": [
    "a = tf.constant(5,name=\"input_a\")\n",
    "b = tf.constant(3,name=\"input_b\")\n",
    "c = tf.multiply(a,b,name=\"mul_c\")\n",
    "d = tf.add(a,b,name=\"add_d\")\n",
    "e = tf.add(c,d,name=\"add_e\")\n",
    "sess = tf.Session()\n",
    "sess.run(e)"
   ]
  },
  {
   "cell_type": "code",
   "execution_count": 3,
   "metadata": {
    "collapsed": true
   },
   "outputs": [],
   "source": [
    "output = sess.run(e)"
   ]
  },
  {
   "cell_type": "code",
   "execution_count": 4,
   "metadata": {
    "collapsed": true
   },
   "outputs": [],
   "source": [
    "writer = tf.summary.FileWriter('C:/Users/SKJ/Documents/GitHub/graph',sess.graph)"
   ]
  },
  {
   "cell_type": "code",
   "execution_count": 5,
   "metadata": {
    "collapsed": true
   },
   "outputs": [],
   "source": [
    "writer.close()\n",
    "sess.close()"
   ]
  },
  {
   "cell_type": "code",
   "execution_count": 6,
   "metadata": {
    "collapsed": true
   },
   "outputs": [],
   "source": [
    "#换成张量输入\n",
    "a = tf.constant([5,3],name=\"input_a\")\n",
    "b = tf.reduce_prod(a,name=\"prod_b\")\n",
    "c = tf.reduce_sum(a,name=\"sum_c\")\n",
    "d = tf.add(c,d,name=\"add_d\")"
   ]
  },
  {
   "cell_type": "code",
   "execution_count": 7,
   "metadata": {
    "collapsed": true
   },
   "outputs": [],
   "source": [
    "import numpy as np\n",
    "t_0 = np.array(50,dtype=np.int32)#养成声明dtype的习惯\n",
    "t_1 = np.array([b\"apple\",b\"peach\",b\"grape\"])#创建字符串类型时不能声明dtype\n",
    "t_2 = np.array([[True,False,False],[False,False,True],\n",
    "                [False,True,False]],dtype = np.bool)\n",
    "t_3 =  np.array([[[0,0],[0,1],[0,2]],\n",
    "                 [[1,0],[1,1],[1,2]],\n",
    "                 [[2,0],[2,1],[2,2]]],dtype = np.int64)"
   ]
  },
  {
   "cell_type": "code",
   "execution_count": 36,
   "metadata": {},
   "outputs": [],
   "source": [
    "#通过名称作用域组织数据流图\n",
    "import tensorflow as tf\n",
    "graph = tf.Graph()\n",
    "with graph.as_default():\n",
    "    in_1 = tf.placeholder(tf.float32,shape=[],name=\"input_a\")\n",
    "    in_2 = tf.placeholder(tf.float32,shape=[],name=\"input_b\")\n",
    "    const = tf.constant(3,dtype=tf.float32,name=\"static_value\")\n",
    "    with tf.name_scope(\"A\"):\n",
    "        A_mul = tf.multiply(in_1,const)\n",
    "        A_out = tf.subtract(A_mul,in_1)\n",
    "    with tf.name_scope(\"B\"):\n",
    "        B_mul = tf.multiply(in_2,const)\n",
    "        B_out = tf.subtract(B_mul,in_2)\n",
    "    with tf.name_scope(\"C\"):\n",
    "        C_div = tf.div(A_out,B_out)\n",
    "        C_out = tf.add(C_div,const)\n",
    "    with tf.name_scope(\"D\"):\n",
    "        D_div = tf.div(B_out,A_out)\n",
    "        D_out = tf.add(D_div,const) \n",
    "    writer = tf.summary.FileWriter('C:/Users/SKJ/Documents/GitHub/graph',graph=graph)\n",
    "    writer.close()  "
   ]
  },
  {
   "cell_type": "code",
   "execution_count": 63,
   "metadata": {},
   "outputs": [],
   "source": [
    "#练习组件\n",
    "#-*- coding: utf-8 -*-\n",
    "import tensorflow as tf\n",
    "graph = tf.Graph()\n",
    "with graph.as_default():\n",
    "    with tf.name_scope(\"variables\"):\n",
    "        global_step = tf.Variable(0,dtype = tf.int32,\\\n",
    "                                  trainable = False,name = \"global_step\")\n",
    "        total_output = tf.Variable(0.0,dtype = tf.float32,\\\n",
    "                                   trainable = False,name = \"total_output\")\n",
    "    with tf.name_scope(\"transformation\"):\n",
    "        #独立的输入层\n",
    "        with tf.name_scope(\"input\"):\n",
    "            a = tf.placeholder(tf.float32,shape=[None],name=\"input_placeholder_a\")\n",
    "        #独立的中间层\n",
    "        with tf.name_scope(\"intermediate_layer\"):\n",
    "            b = tf.reduce_prod(a,name=\"product_b\")\n",
    "            c = tf.reduce_sum(a,name=\"sum_c\")\n",
    "        #独立的输出层\n",
    "        with tf.name_scope(\"out_put\"):\n",
    "            output = tf.add(b,c,name=\"out_put\")\n",
    "    with tf.name_scope(\"update\"):\n",
    "        update_total = total_output.assign_add(output)\n",
    "        increment_step = global_step.assign_add(1)\n",
    "    with tf.name_scope(\"summaries\"):\n",
    "        avg = tf.div(update_total,tf.cast(increment_step,tf.float32),name=\"average\")\n",
    "        tf.summary.scalar('Output',output)#name=\"output_summary\"\n",
    "        tf.summary.scalar('Sum_of_outputs_over_time',update_total)#,name=\"total_summary\")\n",
    "        tf.summary.scalar('Average_of_outputs_over_time',avg)#,name=\"average_summary\")\n",
    "    with tf.name_scope(\"global_ops\"):\n",
    "        init = tf.global_variables_initializer()\n",
    "        merged_summaries = tf.summary.merge_all() \n",
    "        \n",
    "sess = tf.Session(graph=graph)\n",
    "writer = tf.summary.FileWriter('C:/Users/SKJ/Documents/GitHub/graph',graph=graph)\n",
    "sess.run(init)\n",
    "\n",
    "def run_graph(input_tensor):\n",
    "    feed_dict = {a:input_tensor}\n",
    "    _,step,summary = sess.run([output,increment_step,merged_summaries],\\\n",
    "                              feed_dict = feed_dict)\n",
    "    writer.add_summary(summary,global_step = step)\n",
    "\n",
    "run_graph([2,8])\n",
    "run_graph([3,1,3,3])\n",
    "run_graph([8])\n",
    "run_graph([1,2,3])\n",
    "run_graph([11,4])\n",
    "run_graph([4,1])\n",
    "run_graph([7,3,1])\n",
    "run_graph([6,3])\n",
    "run_graph([0,2])\n",
    "run_graph([4,5,6])\n",
    "\n",
    "writer.flush()\n",
    "writer.close()\n",
    "sess.close()"
   ]
  },
  {
   "cell_type": "code",
   "execution_count": null,
   "metadata": {
    "collapsed": true
   },
   "outputs": [],
   "source": []
  }
 ],
 "metadata": {
  "kernelspec": {
   "display_name": "Python 3",
   "language": "python",
   "name": "python3"
  },
  "language_info": {
   "codemirror_mode": {
    "name": "ipython",
    "version": 3
   },
   "file_extension": ".py",
   "mimetype": "text/x-python",
   "name": "python",
   "nbconvert_exporter": "python",
   "pygments_lexer": "ipython3",
   "version": "3.6.2"
  }
 },
 "nbformat": 4,
 "nbformat_minor": 2
}
